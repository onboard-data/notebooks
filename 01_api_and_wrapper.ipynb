{
 "cells": [
  {
   "cell_type": "markdown",
   "id": "55eb39f4-4eac-4eaa-89ab-2c6975971cbe",
   "metadata": {
    "papermill": {
     "duration": 0.044139,
     "end_time": "2022-05-13T16:22:50.601718",
     "exception": false,
     "start_time": "2022-05-13T16:22:50.557579",
     "status": "completed"
    },
    "tags": []
   },
   "source": [
    "# Onboard API Wrapper Introduction\n",
    "In this notebook we will be exploring the Onboard API and API wrapper. Make sure to run the following chunk of code first in order to install it.\n",
    "\n",
    "These notebooks were adapted from previous notebooks developed for a hackathon we ran. A series of YouTube videos discussed those previous versions of the notebooks. While they are no longer a perfect match for the content of these notebooks, they have some useful information in them, including: \n",
    "- [how to get started with your Onboard account](https://youtu.be/WmAlWNSH5Tk) [note: only the first half of this video will likely be relevant for the current version of these notebooks],\n",
    "- get [acquainted with the Onboard API](https://youtu.be/HqwutnN0Bvc), \n",
    "- and start using the [Onboard API wrapper to extract and explore data](https://youtu.be/cn32ma0FaQg)."
   ]
  },
  {
   "cell_type": "code",
   "execution_count": 1,
   "id": "18c06697-578f-4f68-8dd4-362e0e3bfb66",
   "metadata": {
    "_cell_guid": "b1076dfc-b9ad-4769-8c92-a6c4dae69d19",
    "_kg_hide-input": false,
    "_kg_hide-output": true,
    "_uuid": "8f2839f25d086af736a60e9eeb907d3b93b6e0e5",
    "papermill": {
     "duration": 9.921584,
     "end_time": "2022-05-13T16:23:00.568411",
     "exception": false,
     "start_time": "2022-05-13T16:22:50.646827",
     "status": "completed"
    },
    "tags": []
   },
   "outputs": [],
   "source": [
    "# install API wrapper first\n",
    "!pip install onboard.client"
   ]
  },
  {
   "cell_type": "markdown",
   "id": "6cf225ce-d2c4-48cf-9187-634f234f4820",
   "metadata": {
    "papermill": {
     "duration": 0.046703,
     "end_time": "2022-05-13T16:23:01.385103",
     "exception": false,
     "start_time": "2022-05-13T16:23:01.338400",
     "status": "completed"
    },
    "tags": []
   },
   "source": [
    "## API Keys"
   ]
  },
  {
   "cell_type": "markdown",
   "id": "e498ee0e-1255-42aa-8822-6fa72fbb7a6d",
   "metadata": {
    "papermill": {
     "duration": 0.046077,
     "end_time": "2022-05-13T16:23:01.478643",
     "exception": false,
     "start_time": "2022-05-13T16:23:01.432566",
     "status": "completed"
    },
    "tags": []
   },
   "source": [
    "For the Onboard API, your API key allows secure, automated access to the Onboard portal, where you can access API endpoints and data by attaching one or more scopes to the key. The key is linked to its creator's user account, and can only access information that is allowed according to the scopes attached to it.\n",
    "\n",
    "So to start using Onboard API, **make sure you not only have an account, but you also have generated an API key**. The following section explains how to do this."
   ]
  },
  {
   "cell_type": "markdown",
   "id": "a59e53c1-f96b-4522-87c5-cfd06fc73285",
   "metadata": {
    "papermill": {
     "duration": 0.046052,
     "end_time": "2022-05-13T16:23:01.571050",
     "exception": false,
     "start_time": "2022-05-13T16:23:01.524998",
     "status": "completed"
    },
    "tags": []
   },
   "source": [
    "## Generating API keys"
   ]
  },
  {
   "cell_type": "markdown",
   "id": "52d3d28f-6e0e-455b-83fb-10f8090ea617",
   "metadata": {
    "papermill": {
     "duration": 0.045737,
     "end_time": "2022-05-13T16:23:01.665731",
     "exception": false,
     "start_time": "2022-05-13T16:23:01.619994",
     "status": "completed"
    },
    "tags": []
   },
   "source": [
    "In the [official documentation](https://onboard-data-python-client-api.readthedocs.io/en/latest/Initial%20Setup.html#setting-up-api-access) you can find the instructions to generate your API Key:\n",
    "\n",
    "> If you are an existing Onboard user you can head over to [your account’s api keys page](https://portal.onboarddata.io/account?tab=api) and generate a new key and grant scopes for “general” and “buildings:read”. If you would like to get access to Onboard and start prototyping against an example building please request [access here](https://www.onboarddata.io/contact-us).\n",
    "\n",
    "After generating your API key with the **general** and **buidings:read** scopes, we use it to connect to the client.\n",
    "\n",
    "### Connecting to the API\n",
    "\n",
    "One trick to use your api key while still keeping it (relatively) secret is to create a separate `key.py` file which will consist only of defining the string variable `api_key`, like so:\n",
    "\n",
    "```\n",
    "api_key = 'ob-p-{the rest of your key here}'\n",
    "```\n",
    "\n",
    "So now we can import that variable and provide it to the client, without having to display the key in plain text in this notebook. Isn't that neat? ![Isn't that neat?](https://media.giphy.com/media/CWKcLd53mbw0o/giphy.gif \"neat\")"
   ]
  },
  {
   "cell_type": "code",
   "execution_count": 3,
   "id": "15b95d33-f19f-4204-abc0-0cdc29db7128",
   "metadata": {},
   "outputs": [],
   "source": [
    "from onboard.client import OnboardClient # import wrapper\n",
    "\n",
    "try: # for this you can either create a key.py file with one line: api_key = 'your api key here'\n",
    "    from key import api_key\n",
    "except ImportError: # or you can just input your api key when you get the prompt\n",
    "  api_key = input('please enter your api_key')\n",
    "\n",
    "client = OnboardClient(api_key=api_key)\n",
    "\n",
    "client = OnboardClient(api_key=api_key) # use imported api_key to connect to API"
   ]
  },
  {
   "cell_type": "code",
   "execution_count": 4,
   "id": "9d424a9b-24fc-4f48-9071-39b638822df2",
   "metadata": {
    "papermill": {
     "duration": 0.235015,
     "end_time": "2022-05-13T16:23:02.377331",
     "exception": false,
     "start_time": "2022-05-13T16:23:02.142316",
     "status": "completed"
    },
    "tags": []
   },
   "outputs": [
    {
     "data": {
      "text/plain": [
       "{'result': 'ok',\n",
       " 'apiKeyInHeader': True,\n",
       " 'apiKeyScopes': ['general',\n",
       "  'buildings:read',\n",
       "  'auth',\n",
       "  'collection:admin',\n",
       "  'buildings:write',\n",
       "  'collection'],\n",
       " 'apiVersion': '2022-04-14',\n",
       " 'userInfo': {'token': None,\n",
       "  'name': 'Christopher',\n",
       "  'full_name': 'Christopher DT',\n",
       "  'username': 'christopher',\n",
       "  'palette': {'primary': {'main': ''}, 'secondary': {'main': ''}},\n",
       "  'org_short_name': 'Onboard',\n",
       "  'org_id': 2,\n",
       "  'logo_url': '',\n",
       "  'mfa_required': True},\n",
       " 'authLevel': 0}"
      ]
     },
     "execution_count": 4,
     "metadata": {},
     "output_type": "execute_result"
    }
   ],
   "source": [
    "client.whoami() # to confirm you've connected to the API and get info about your account and this key's scopes"
   ]
  },
  {
   "cell_type": "markdown",
   "id": "a937b07d-3dc3-475a-82c4-bd8b311f0c31",
   "metadata": {},
   "source": [
    "For these notebooks, we will work with the example/mock building data (ids 427 and 428), which anyone with API access will be able to work with."
   ]
  },
  {
   "cell_type": "code",
   "execution_count": 4,
   "id": "5d4f5d1c-d0a6-441d-b8cb-0a2e498a2144",
   "metadata": {},
   "outputs": [
    {
     "data": {
      "text/html": [
       "<div>\n",
       "<style scoped>\n",
       "    .dataframe tbody tr th:only-of-type {\n",
       "        vertical-align: middle;\n",
       "    }\n",
       "\n",
       "    .dataframe tbody tr th {\n",
       "        vertical-align: top;\n",
       "    }\n",
       "\n",
       "    .dataframe thead th {\n",
       "        text-align: right;\n",
       "    }\n",
       "</style>\n",
       "<table border=\"1\" class=\"dataframe\">\n",
       "  <thead>\n",
       "    <tr style=\"text-align: right;\">\n",
       "      <th></th>\n",
       "      <th>id</th>\n",
       "      <th>org_id</th>\n",
       "      <th>name</th>\n",
       "      <th>address</th>\n",
       "      <th>sq_ft</th>\n",
       "      <th>image_src</th>\n",
       "      <th>bms_manufacturer</th>\n",
       "      <th>bms_product_name</th>\n",
       "      <th>bms_version</th>\n",
       "      <th>timezone</th>\n",
       "      <th>info</th>\n",
       "      <th>status</th>\n",
       "      <th>equip_count</th>\n",
       "      <th>point_count</th>\n",
       "    </tr>\n",
       "  </thead>\n",
       "  <tbody>\n",
       "    <tr>\n",
       "      <th>14</th>\n",
       "      <td>428</td>\n",
       "      <td>6</td>\n",
       "      <td>Laboratory</td>\n",
       "      <td>None</td>\n",
       "      <td>NaN</td>\n",
       "      <td>None</td>\n",
       "      <td>None</td>\n",
       "      <td>None</td>\n",
       "      <td>None</td>\n",
       "      <td>America/New_York</td>\n",
       "      <td>None</td>\n",
       "      <td>LIVE</td>\n",
       "      <td>122</td>\n",
       "      <td>1654</td>\n",
       "    </tr>\n",
       "    <tr>\n",
       "      <th>21</th>\n",
       "      <td>427</td>\n",
       "      <td>6</td>\n",
       "      <td>Office Building</td>\n",
       "      <td>None</td>\n",
       "      <td>NaN</td>\n",
       "      <td>None</td>\n",
       "      <td>None</td>\n",
       "      <td>None</td>\n",
       "      <td>None</td>\n",
       "      <td>America/New_York</td>\n",
       "      <td>None</td>\n",
       "      <td>LIVE</td>\n",
       "      <td>137</td>\n",
       "      <td>2422</td>\n",
       "    </tr>\n",
       "  </tbody>\n",
       "</table>\n",
       "</div>"
      ],
      "text/plain": [
       "     id  org_id             name address  sq_ft image_src bms_manufacturer  \\\n",
       "14  428       6       Laboratory    None    NaN      None             None   \n",
       "21  427       6  Office Building    None    NaN      None             None   \n",
       "\n",
       "   bms_product_name bms_version          timezone  info status  equip_count  \\\n",
       "14             None        None  America/New_York  None   LIVE          122   \n",
       "21             None        None  America/New_York  None   LIVE          137   \n",
       "\n",
       "    point_count  \n",
       "14         1654  \n",
       "21         2422  "
      ]
     },
     "execution_count": 4,
     "metadata": {},
     "output_type": "execute_result"
    }
   ],
   "source": [
    "import pandas as pd # we will manipulate and analyze data using Pandas\n",
    "building_ids = [427, 428] # these are the building IDs for our mock example buildings\n",
    "buildings = pd.DataFrame(client.get_all_buildings()).query('id in @building_ids')\n",
    "buildings"
   ]
  },
  {
   "cell_type": "code",
   "execution_count": 5,
   "id": "0d029acc-0aab-4bd8-ae87-71a603675dda",
   "metadata": {},
   "outputs": [
    {
     "name": "stdout",
     "output_type": "stream",
     "text": [
      "<class 'pandas.core.frame.DataFrame'>\n",
      "Int64Index: 2 entries, 14 to 21\n",
      "Data columns (total 14 columns):\n",
      " #   Column            Non-Null Count  Dtype  \n",
      "---  ------            --------------  -----  \n",
      " 0   id                2 non-null      int64  \n",
      " 1   org_id            2 non-null      int64  \n",
      " 2   name              2 non-null      object \n",
      " 3   address           0 non-null      object \n",
      " 4   sq_ft             0 non-null      float64\n",
      " 5   image_src         0 non-null      object \n",
      " 6   bms_manufacturer  0 non-null      object \n",
      " 7   bms_product_name  0 non-null      object \n",
      " 8   bms_version       0 non-null      object \n",
      " 9   timezone          2 non-null      object \n",
      " 10  info              0 non-null      object \n",
      " 11  status            2 non-null      object \n",
      " 12  equip_count       2 non-null      int64  \n",
      " 13  point_count       2 non-null      int64  \n",
      "dtypes: float64(1), int64(4), object(9)\n",
      "memory usage: 240.0+ bytes\n"
     ]
    }
   ],
   "source": [
    "buildings.info()"
   ]
  },
  {
   "cell_type": "markdown",
   "id": "02661ae9-f848-4974-8a28-3a044f679358",
   "metadata": {},
   "source": [
    "We can also get the equipment for those buildings. How about the first one?"
   ]
  },
  {
   "cell_type": "code",
   "execution_count": 6,
   "id": "b2f446fd-2791-4ace-9e5a-4fa9748d660a",
   "metadata": {},
   "outputs": [
    {
     "data": {
      "text/html": [
       "<div>\n",
       "<style scoped>\n",
       "    .dataframe tbody tr th:only-of-type {\n",
       "        vertical-align: middle;\n",
       "    }\n",
       "\n",
       "    .dataframe tbody tr th {\n",
       "        vertical-align: top;\n",
       "    }\n",
       "\n",
       "    .dataframe thead th {\n",
       "        text-align: right;\n",
       "    }\n",
       "</style>\n",
       "<table border=\"1\" class=\"dataframe\">\n",
       "  <thead>\n",
       "    <tr style=\"text-align: right;\">\n",
       "      <th></th>\n",
       "      <th>id</th>\n",
       "      <th>building_id</th>\n",
       "      <th>equip_id</th>\n",
       "      <th>suffix</th>\n",
       "      <th>equip_type_name</th>\n",
       "      <th>equip_type_id</th>\n",
       "      <th>equip_type_abbr</th>\n",
       "      <th>equip_type_tag</th>\n",
       "      <th>equip_subtype_name</th>\n",
       "      <th>equip_subtype_id</th>\n",
       "      <th>equip_subtype_tag</th>\n",
       "      <th>flow_order</th>\n",
       "      <th>floor_num_physical</th>\n",
       "      <th>floor_num_served</th>\n",
       "      <th>area_served_desc</th>\n",
       "      <th>equip_dis</th>\n",
       "      <th>parent_equip</th>\n",
       "      <th>child_equip</th>\n",
       "      <th>points</th>\n",
       "      <th>tags</th>\n",
       "    </tr>\n",
       "  </thead>\n",
       "  <tbody>\n",
       "    <tr>\n",
       "      <th>0</th>\n",
       "      <td>27294</td>\n",
       "      <td>428</td>\n",
       "      <td>exhaustFan-01</td>\n",
       "      <td>1</td>\n",
       "      <td>Fan</td>\n",
       "      <td>26</td>\n",
       "      <td>FAN</td>\n",
       "      <td>fan</td>\n",
       "      <td>Exhaust Fan</td>\n",
       "      <td>12.0</td>\n",
       "      <td>exhaustFan</td>\n",
       "      <td>4</td>\n",
       "      <td>NaN</td>\n",
       "      <td>NaN</td>\n",
       "      <td>Bathrooms</td>\n",
       "      <td>None</td>\n",
       "      <td>[]</td>\n",
       "      <td>[]</td>\n",
       "      <td>[{'id': 290774, 'building_id': 428, 'last_upda...</td>\n",
       "      <td>[fan, hvac, exhaustFan]</td>\n",
       "    </tr>\n",
       "    <tr>\n",
       "      <th>1</th>\n",
       "      <td>27295</td>\n",
       "      <td>428</td>\n",
       "      <td>exhaustFan-021</td>\n",
       "      <td>21</td>\n",
       "      <td>Fan</td>\n",
       "      <td>26</td>\n",
       "      <td>FAN</td>\n",
       "      <td>fan</td>\n",
       "      <td>Exhaust Fan</td>\n",
       "      <td>12.0</td>\n",
       "      <td>exhaustFan</td>\n",
       "      <td>4</td>\n",
       "      <td>1004.0</td>\n",
       "      <td>1004.0</td>\n",
       "      <td>Lab 021</td>\n",
       "      <td>None</td>\n",
       "      <td>[]</td>\n",
       "      <td>[]</td>\n",
       "      <td>[{'id': 289684, 'building_id': 428, 'last_upda...</td>\n",
       "      <td>[fan, hvac, exhaustFan]</td>\n",
       "    </tr>\n",
       "    <tr>\n",
       "      <th>2</th>\n",
       "      <td>27296</td>\n",
       "      <td>428</td>\n",
       "      <td>exhaustFan-022</td>\n",
       "      <td>22</td>\n",
       "      <td>Fan</td>\n",
       "      <td>26</td>\n",
       "      <td>FAN</td>\n",
       "      <td>fan</td>\n",
       "      <td>Exhaust Fan</td>\n",
       "      <td>12.0</td>\n",
       "      <td>exhaustFan</td>\n",
       "      <td>4</td>\n",
       "      <td>1004.0</td>\n",
       "      <td>1004.0</td>\n",
       "      <td>Lab 022</td>\n",
       "      <td>None</td>\n",
       "      <td>[]</td>\n",
       "      <td>[]</td>\n",
       "      <td>[{'id': 289653, 'building_id': 428, 'last_upda...</td>\n",
       "      <td>[fan, hvac, exhaustFan]</td>\n",
       "    </tr>\n",
       "    <tr>\n",
       "      <th>3</th>\n",
       "      <td>27297</td>\n",
       "      <td>428</td>\n",
       "      <td>exhaustFan-115</td>\n",
       "      <td>115</td>\n",
       "      <td>Fan</td>\n",
       "      <td>26</td>\n",
       "      <td>FAN</td>\n",
       "      <td>fan</td>\n",
       "      <td>Exhaust Fan</td>\n",
       "      <td>12.0</td>\n",
       "      <td>exhaustFan</td>\n",
       "      <td>4</td>\n",
       "      <td>1.0</td>\n",
       "      <td>1.0</td>\n",
       "      <td>Lab 115</td>\n",
       "      <td>None</td>\n",
       "      <td>[]</td>\n",
       "      <td>[]</td>\n",
       "      <td>[{'id': 290137, 'building_id': 428, 'last_upda...</td>\n",
       "      <td>[fan, hvac, exhaustFan]</td>\n",
       "    </tr>\n",
       "    <tr>\n",
       "      <th>4</th>\n",
       "      <td>27298</td>\n",
       "      <td>428</td>\n",
       "      <td>exhaustFan-116</td>\n",
       "      <td>116</td>\n",
       "      <td>Fan</td>\n",
       "      <td>26</td>\n",
       "      <td>FAN</td>\n",
       "      <td>fan</td>\n",
       "      <td>Exhaust Fan</td>\n",
       "      <td>12.0</td>\n",
       "      <td>exhaustFan</td>\n",
       "      <td>4</td>\n",
       "      <td>1.0</td>\n",
       "      <td>1.0</td>\n",
       "      <td>Lab 116</td>\n",
       "      <td>None</td>\n",
       "      <td>[]</td>\n",
       "      <td>[]</td>\n",
       "      <td>[{'id': 290088, 'building_id': 428, 'last_upda...</td>\n",
       "      <td>[fan, hvac, exhaustFan]</td>\n",
       "    </tr>\n",
       "  </tbody>\n",
       "</table>\n",
       "</div>"
      ],
      "text/plain": [
       "      id  building_id        equip_id suffix equip_type_name  equip_type_id  \\\n",
       "0  27294          428   exhaustFan-01      1             Fan             26   \n",
       "1  27295          428  exhaustFan-021     21             Fan             26   \n",
       "2  27296          428  exhaustFan-022     22             Fan             26   \n",
       "3  27297          428  exhaustFan-115    115             Fan             26   \n",
       "4  27298          428  exhaustFan-116    116             Fan             26   \n",
       "\n",
       "  equip_type_abbr equip_type_tag equip_subtype_name  equip_subtype_id  \\\n",
       "0             FAN            fan        Exhaust Fan              12.0   \n",
       "1             FAN            fan        Exhaust Fan              12.0   \n",
       "2             FAN            fan        Exhaust Fan              12.0   \n",
       "3             FAN            fan        Exhaust Fan              12.0   \n",
       "4             FAN            fan        Exhaust Fan              12.0   \n",
       "\n",
       "  equip_subtype_tag  flow_order  floor_num_physical  floor_num_served  \\\n",
       "0        exhaustFan           4                 NaN               NaN   \n",
       "1        exhaustFan           4              1004.0            1004.0   \n",
       "2        exhaustFan           4              1004.0            1004.0   \n",
       "3        exhaustFan           4                 1.0               1.0   \n",
       "4        exhaustFan           4                 1.0               1.0   \n",
       "\n",
       "  area_served_desc equip_dis parent_equip child_equip  \\\n",
       "0        Bathrooms      None           []          []   \n",
       "1          Lab 021      None           []          []   \n",
       "2          Lab 022      None           []          []   \n",
       "3          Lab 115      None           []          []   \n",
       "4          Lab 116      None           []          []   \n",
       "\n",
       "                                              points                     tags  \n",
       "0  [{'id': 290774, 'building_id': 428, 'last_upda...  [fan, hvac, exhaustFan]  \n",
       "1  [{'id': 289684, 'building_id': 428, 'last_upda...  [fan, hvac, exhaustFan]  \n",
       "2  [{'id': 289653, 'building_id': 428, 'last_upda...  [fan, hvac, exhaustFan]  \n",
       "3  [{'id': 290137, 'building_id': 428, 'last_upda...  [fan, hvac, exhaustFan]  \n",
       "4  [{'id': 290088, 'building_id': 428, 'last_upda...  [fan, hvac, exhaustFan]  "
      ]
     },
     "execution_count": 6,
     "metadata": {},
     "output_type": "execute_result"
    }
   ],
   "source": [
    "# We can get all the equipment from one of our buidings\n",
    "bid = buildings.id.tolist()[0]\n",
    "all_equipment = pd.DataFrame(client.get_building_equipment(bid))\n",
    "all_equipment.head()"
   ]
  },
  {
   "cell_type": "code",
   "execution_count": 7,
   "id": "ce795730-e9c8-4f6a-a53d-16b03332b79e",
   "metadata": {},
   "outputs": [
    {
     "name": "stdout",
     "output_type": "stream",
     "text": [
      "<class 'pandas.core.frame.DataFrame'>\n",
      "RangeIndex: 122 entries, 0 to 121\n",
      "Data columns (total 20 columns):\n",
      " #   Column              Non-Null Count  Dtype  \n",
      "---  ------              --------------  -----  \n",
      " 0   id                  122 non-null    int64  \n",
      " 1   building_id         122 non-null    int64  \n",
      " 2   equip_id            122 non-null    object \n",
      " 3   suffix              120 non-null    object \n",
      " 4   equip_type_name     122 non-null    object \n",
      " 5   equip_type_id       122 non-null    int64  \n",
      " 6   equip_type_abbr     122 non-null    object \n",
      " 7   equip_type_tag      122 non-null    object \n",
      " 8   equip_subtype_name  44 non-null     object \n",
      " 9   equip_subtype_id    44 non-null     float64\n",
      " 10  equip_subtype_tag   44 non-null     object \n",
      " 11  flow_order          122 non-null    int64  \n",
      " 12  floor_num_physical  115 non-null    float64\n",
      " 13  floor_num_served    121 non-null    float64\n",
      " 14  area_served_desc    122 non-null    object \n",
      " 15  equip_dis           0 non-null      object \n",
      " 16  parent_equip        122 non-null    object \n",
      " 17  child_equip         122 non-null    object \n",
      " 18  points              122 non-null    object \n",
      " 19  tags                122 non-null    object \n",
      "dtypes: float64(3), int64(4), object(13)\n",
      "memory usage: 19.2+ KB\n"
     ]
    }
   ],
   "source": [
    "all_equipment.info()"
   ]
  },
  {
   "cell_type": "markdown",
   "id": "4dc64e3f-b383-4b51-b91c-d96db6503b71",
   "metadata": {
    "papermill": {
     "duration": 0.05564,
     "end_time": "2022-05-13T16:23:06.530826",
     "exception": false,
     "start_time": "2022-05-13T16:23:06.475186",
     "status": "completed"
    },
    "tags": []
   },
   "source": [
    "In this data frame we have listed all the equipment in the select building. Check out the column `points`: these are all the data points asociated to that equipment. You can [query specific points](https://onboard-data-python-client-api.readthedocs.io/en/latest/Querying%20Building-Specific%20Data.html#querying-specific-points) with certain conditions using *PointSelector* (we'll get deeper into this in the following notebook)."
   ]
  },
  {
   "cell_type": "code",
   "execution_count": 8,
   "id": "0ff48776-9fb8-4a07-9183-16b1c0147185",
   "metadata": {
    "papermill": {
     "duration": 0.061113,
     "end_time": "2022-05-13T16:23:06.645992",
     "exception": false,
     "start_time": "2022-05-13T16:23:06.584879",
     "status": "completed"
    },
    "tags": []
   },
   "outputs": [],
   "source": [
    "from onboard.client.models import PointSelector"
   ]
  },
  {
   "cell_type": "markdown",
   "id": "0e2094b4-da7a-4d32-8b9f-a0a3661277b7",
   "metadata": {
    "papermill": {
     "duration": 0.05335,
     "end_time": "2022-05-13T16:23:06.753342",
     "exception": false,
     "start_time": "2022-05-13T16:23:06.699992",
     "status": "completed"
    },
    "tags": []
   },
   "source": [
    "First create your *PointSelector* object:"
   ]
  },
  {
   "cell_type": "code",
   "execution_count": 9,
   "id": "65114f42-49c4-4c8b-b3a0-d11f1763234c",
   "metadata": {
    "papermill": {
     "duration": 0.061883,
     "end_time": "2022-05-13T16:23:06.868340",
     "exception": false,
     "start_time": "2022-05-13T16:23:06.806457",
     "status": "completed"
    },
    "tags": []
   },
   "outputs": [],
   "source": [
    "query = PointSelector()"
   ]
  },
  {
   "cell_type": "markdown",
   "id": "10f8904b-25d1-498a-b742-2a1b4f853fc1",
   "metadata": {
    "papermill": {
     "duration": 0.054668,
     "end_time": "2022-05-13T16:23:06.980451",
     "exception": false,
     "start_time": "2022-05-13T16:23:06.925783",
     "status": "completed"
    },
    "tags": []
   },
   "source": [
    "And you can specify all the conditions you want ([check the doc](https://onboard-data-python-client-api.readthedocs.io/en/latest/Querying%20Building-Specific%20Data.html#querying-specific-points)):"
   ]
  },
  {
   "cell_type": "code",
   "execution_count": 10,
   "id": "ba51478e-d00b-4b49-9385-8609a396eec4",
   "metadata": {
    "papermill": {
     "duration": 0.062842,
     "end_time": "2022-05-13T16:23:07.096732",
     "exception": false,
     "start_time": "2022-05-13T16:23:07.033890",
     "status": "completed"
    },
    "tags": []
   },
   "outputs": [],
   "source": [
    "query.point_types = ['Zone Temperature']\n",
    "query.equipment_types = ['fcu']\n",
    "query.buildings = [427, 428] # again, the example buildings"
   ]
  },
  {
   "cell_type": "markdown",
   "id": "ec8cbb01-8ae8-4a3d-9c4c-0eebb12b636d",
   "metadata": {
    "papermill": {
     "duration": 0.057986,
     "end_time": "2022-05-13T16:23:07.208266",
     "exception": false,
     "start_time": "2022-05-13T16:23:07.150280",
     "status": "completed"
    },
    "tags": []
   },
   "source": [
    "And when you execute that query using `select_points` you will get the points that satisfy those conditions:"
   ]
  },
  {
   "cell_type": "code",
   "execution_count": 11,
   "id": "c9f2fd8d-05b0-4b8c-9466-070a7fbed983",
   "metadata": {
    "papermill": {
     "duration": 0.222774,
     "end_time": "2022-05-13T16:23:07.486296",
     "exception": false,
     "start_time": "2022-05-13T16:23:07.263522",
     "status": "completed"
    },
    "tags": []
   },
   "outputs": [
    {
     "data": {
      "text/plain": [
       "{'orgs': [6],\n",
       " 'buildings': [427, 428],\n",
       " 'equipment': [27136,\n",
       "  27137,\n",
       "  27063,\n",
       "  27065,\n",
       "  27067,\n",
       "  27070,\n",
       "  27074,\n",
       "  27076,\n",
       "  27077,\n",
       "  27079,\n",
       "  27084,\n",
       "  27088,\n",
       "  27096,\n",
       "  27099,\n",
       "  27356,\n",
       "  27357,\n",
       "  27106,\n",
       "  27107,\n",
       "  27108,\n",
       "  27109,\n",
       "  27110,\n",
       "  27120,\n",
       "  27123,\n",
       "  27127,\n",
       "  27128,\n",
       "  27129,\n",
       "  27130,\n",
       "  27131,\n",
       "  27132,\n",
       "  27133,\n",
       "  27134,\n",
       "  27135],\n",
       " 'equipment_types': [9],\n",
       " 'point_types': [77],\n",
       " 'points': [284803,\n",
       "  286085,\n",
       "  285964,\n",
       "  286353,\n",
       "  284822,\n",
       "  285719,\n",
       "  288153,\n",
       "  289701,\n",
       "  289575,\n",
       "  284841,\n",
       "  285745,\n",
       "  286258,\n",
       "  286641,\n",
       "  286898,\n",
       "  285621,\n",
       "  284860,\n",
       "  285889,\n",
       "  285766,\n",
       "  286284,\n",
       "  286668,\n",
       "  288847,\n",
       "  286160,\n",
       "  286805,\n",
       "  288982,\n",
       "  288859,\n",
       "  285791,\n",
       "  286306,\n",
       "  287714,\n",
       "  288612,\n",
       "  286566,\n",
       "  288623,\n",
       "  286328]}"
      ]
     },
     "execution_count": 11,
     "metadata": {},
     "output_type": "execute_result"
    }
   ],
   "source": [
    "selection = client.select_points(query)\n",
    "selection"
   ]
  },
  {
   "cell_type": "markdown",
   "id": "bef16b70-5599-47b3-ac7d-e822ecfedd97",
   "metadata": {
    "papermill": {
     "duration": 0.054672,
     "end_time": "2022-05-13T16:23:07.597234",
     "exception": false,
     "start_time": "2022-05-13T16:23:07.542562",
     "status": "completed"
    },
    "tags": []
   },
   "source": [
    "And those are the points, identified by id:"
   ]
  },
  {
   "cell_type": "code",
   "execution_count": 12,
   "id": "f08f31c9-ff6c-45eb-985d-299abd7d8ff3",
   "metadata": {
    "papermill": {
     "duration": 0.065704,
     "end_time": "2022-05-13T16:23:07.718615",
     "exception": false,
     "start_time": "2022-05-13T16:23:07.652911",
     "status": "completed"
    },
    "tags": []
   },
   "outputs": [
    {
     "data": {
      "text/plain": [
       "[284803,\n",
       " 286085,\n",
       " 285964,\n",
       " 286353,\n",
       " 284822,\n",
       " 285719,\n",
       " 288153,\n",
       " 289701,\n",
       " 289575,\n",
       " 284841,\n",
       " 285745,\n",
       " 286258,\n",
       " 286641,\n",
       " 286898,\n",
       " 285621,\n",
       " 284860,\n",
       " 285889,\n",
       " 285766,\n",
       " 286284,\n",
       " 286668,\n",
       " 288847,\n",
       " 286160,\n",
       " 286805,\n",
       " 288982,\n",
       " 288859,\n",
       " 285791,\n",
       " 286306,\n",
       " 287714,\n",
       " 288612,\n",
       " 286566,\n",
       " 288623,\n",
       " 286328]"
      ]
     },
     "execution_count": 12,
     "metadata": {},
     "output_type": "execute_result"
    }
   ],
   "source": [
    "points = selection[\"points\"]\n",
    "points"
   ]
  },
  {
   "cell_type": "markdown",
   "id": "d4ed4b87-ea92-43d2-95fa-21e2dc33a8f2",
   "metadata": {
    "papermill": {
     "duration": 0.054514,
     "end_time": "2022-05-13T16:23:07.829001",
     "exception": false,
     "start_time": "2022-05-13T16:23:07.774487",
     "status": "completed"
    },
    "tags": []
   },
   "source": [
    "And you can get all the details about those points using `get_points_by_ids`:"
   ]
  },
  {
   "cell_type": "code",
   "execution_count": 13,
   "id": "3a48efca-6e0b-4287-a8c8-c8ef16541cb6",
   "metadata": {
    "papermill": {
     "duration": 0.197582,
     "end_time": "2022-05-13T16:23:08.081322",
     "exception": false,
     "start_time": "2022-05-13T16:23:07.883740",
     "status": "completed"
    },
    "tags": []
   },
   "outputs": [
    {
     "data": {
      "text/html": [
       "<div>\n",
       "<style scoped>\n",
       "    .dataframe tbody tr th:only-of-type {\n",
       "        vertical-align: middle;\n",
       "    }\n",
       "\n",
       "    .dataframe tbody tr th {\n",
       "        vertical-align: top;\n",
       "    }\n",
       "\n",
       "    .dataframe thead th {\n",
       "        text-align: right;\n",
       "    }\n",
       "</style>\n",
       "<table border=\"1\" class=\"dataframe\">\n",
       "  <thead>\n",
       "    <tr style=\"text-align: right;\">\n",
       "      <th></th>\n",
       "      <th>id</th>\n",
       "      <th>building_id</th>\n",
       "      <th>last_updated</th>\n",
       "      <th>first_updated</th>\n",
       "      <th>device</th>\n",
       "      <th>network_device</th>\n",
       "      <th>objectId</th>\n",
       "      <th>name</th>\n",
       "      <th>description</th>\n",
       "      <th>units</th>\n",
       "      <th>tagged_units</th>\n",
       "      <th>raw_unit_id</th>\n",
       "      <th>value</th>\n",
       "      <th>type</th>\n",
       "      <th>point_type_id</th>\n",
       "      <th>measurement_id</th>\n",
       "      <th>datasource_hash</th>\n",
       "      <th>topic</th>\n",
       "      <th>state_text</th>\n",
       "      <th>equip_id</th>\n",
       "    </tr>\n",
       "  </thead>\n",
       "  <tbody>\n",
       "    <tr>\n",
       "      <th>0</th>\n",
       "      <td>284803</td>\n",
       "      <td>427</td>\n",
       "      <td>1.665012e+12</td>\n",
       "      <td>1.626898e+12</td>\n",
       "      <td>None</td>\n",
       "      <td>None</td>\n",
       "      <td>None</td>\n",
       "      <td>zone_temp_1</td>\n",
       "      <td>Zone Temp</td>\n",
       "      <td>degreesFahrenheit</td>\n",
       "      <td>f</td>\n",
       "      <td>2</td>\n",
       "      <td>70.0</td>\n",
       "      <td>Zone Temperature</td>\n",
       "      <td>77</td>\n",
       "      <td>1</td>\n",
       "      <td>41140c75b1f87dc3a1d9d158efdd51ad</td>\n",
       "      <td>onboard/officebldg1/device1003815/analogInput/2</td>\n",
       "      <td>None</td>\n",
       "      <td>27133</td>\n",
       "    </tr>\n",
       "    <tr>\n",
       "      <th>1</th>\n",
       "      <td>284822</td>\n",
       "      <td>427</td>\n",
       "      <td>1.665012e+12</td>\n",
       "      <td>1.626898e+12</td>\n",
       "      <td>None</td>\n",
       "      <td>None</td>\n",
       "      <td>None</td>\n",
       "      <td>zone_temp_1</td>\n",
       "      <td>Zone Temp</td>\n",
       "      <td>degreesFahrenheit</td>\n",
       "      <td>f</td>\n",
       "      <td>2</td>\n",
       "      <td>70.0</td>\n",
       "      <td>Zone Temperature</td>\n",
       "      <td>77</td>\n",
       "      <td>1</td>\n",
       "      <td>d8b90a1d2b4d098ba8753d972d2030ac</td>\n",
       "      <td>onboard/officebldg1/device1003816/analogInput/2</td>\n",
       "      <td>None</td>\n",
       "      <td>27134</td>\n",
       "    </tr>\n",
       "    <tr>\n",
       "      <th>2</th>\n",
       "      <td>284841</td>\n",
       "      <td>427</td>\n",
       "      <td>1.665012e+12</td>\n",
       "      <td>1.626898e+12</td>\n",
       "      <td>None</td>\n",
       "      <td>None</td>\n",
       "      <td>None</td>\n",
       "      <td>zone_temp_1</td>\n",
       "      <td>Zone Temp</td>\n",
       "      <td>degreesFahrenheit</td>\n",
       "      <td>f</td>\n",
       "      <td>2</td>\n",
       "      <td>70.0</td>\n",
       "      <td>Zone Temperature</td>\n",
       "      <td>77</td>\n",
       "      <td>1</td>\n",
       "      <td>6e8253c604490a22bf4f5c2e5c0d8430</td>\n",
       "      <td>onboard/officebldg1/device1003817/analogInput/2</td>\n",
       "      <td>None</td>\n",
       "      <td>27135</td>\n",
       "    </tr>\n",
       "    <tr>\n",
       "      <th>3</th>\n",
       "      <td>284860</td>\n",
       "      <td>427</td>\n",
       "      <td>1.665012e+12</td>\n",
       "      <td>1.626898e+12</td>\n",
       "      <td>None</td>\n",
       "      <td>None</td>\n",
       "      <td>None</td>\n",
       "      <td>zone_temp_1</td>\n",
       "      <td>Zone Temp</td>\n",
       "      <td>degreesFahrenheit</td>\n",
       "      <td>f</td>\n",
       "      <td>2</td>\n",
       "      <td>70.0</td>\n",
       "      <td>Zone Temperature</td>\n",
       "      <td>77</td>\n",
       "      <td>1</td>\n",
       "      <td>f7f34df6351edaaa6aca3218cb10bd12</td>\n",
       "      <td>onboard/officebldg1/device1003818/analogInput/2</td>\n",
       "      <td>None</td>\n",
       "      <td>27136</td>\n",
       "    </tr>\n",
       "    <tr>\n",
       "      <th>4</th>\n",
       "      <td>285621</td>\n",
       "      <td>427</td>\n",
       "      <td>1.665012e+12</td>\n",
       "      <td>1.626898e+12</td>\n",
       "      <td>None</td>\n",
       "      <td>None</td>\n",
       "      <td>None</td>\n",
       "      <td>zone_temp_1</td>\n",
       "      <td>Zone Temp</td>\n",
       "      <td>degreesFahrenheit</td>\n",
       "      <td>f</td>\n",
       "      <td>2</td>\n",
       "      <td>74.80</td>\n",
       "      <td>Zone Temperature</td>\n",
       "      <td>77</td>\n",
       "      <td>1</td>\n",
       "      <td>fa4560f8a10571788756c5f65cb6352e</td>\n",
       "      <td>onboard/officebldg1/device10311/analogInput/4</td>\n",
       "      <td>None</td>\n",
       "      <td>27123</td>\n",
       "    </tr>\n",
       "  </tbody>\n",
       "</table>\n",
       "</div>"
      ],
      "text/plain": [
       "       id  building_id  last_updated  first_updated device network_device  \\\n",
       "0  284803          427  1.665012e+12   1.626898e+12   None           None   \n",
       "1  284822          427  1.665012e+12   1.626898e+12   None           None   \n",
       "2  284841          427  1.665012e+12   1.626898e+12   None           None   \n",
       "3  284860          427  1.665012e+12   1.626898e+12   None           None   \n",
       "4  285621          427  1.665012e+12   1.626898e+12   None           None   \n",
       "\n",
       "  objectId         name description              units tagged_units  \\\n",
       "0     None  zone_temp_1   Zone Temp  degreesFahrenheit            f   \n",
       "1     None  zone_temp_1   Zone Temp  degreesFahrenheit            f   \n",
       "2     None  zone_temp_1   Zone Temp  degreesFahrenheit            f   \n",
       "3     None  zone_temp_1   Zone Temp  degreesFahrenheit            f   \n",
       "4     None  zone_temp_1   Zone Temp  degreesFahrenheit            f   \n",
       "\n",
       "   raw_unit_id  value              type  point_type_id  measurement_id  \\\n",
       "0            2   70.0  Zone Temperature             77               1   \n",
       "1            2   70.0  Zone Temperature             77               1   \n",
       "2            2   70.0  Zone Temperature             77               1   \n",
       "3            2   70.0  Zone Temperature             77               1   \n",
       "4            2  74.80  Zone Temperature             77               1   \n",
       "\n",
       "                    datasource_hash  \\\n",
       "0  41140c75b1f87dc3a1d9d158efdd51ad   \n",
       "1  d8b90a1d2b4d098ba8753d972d2030ac   \n",
       "2  6e8253c604490a22bf4f5c2e5c0d8430   \n",
       "3  f7f34df6351edaaa6aca3218cb10bd12   \n",
       "4  fa4560f8a10571788756c5f65cb6352e   \n",
       "\n",
       "                                             topic state_text  equip_id  \n",
       "0  onboard/officebldg1/device1003815/analogInput/2       None     27133  \n",
       "1  onboard/officebldg1/device1003816/analogInput/2       None     27134  \n",
       "2  onboard/officebldg1/device1003817/analogInput/2       None     27135  \n",
       "3  onboard/officebldg1/device1003818/analogInput/2       None     27136  \n",
       "4    onboard/officebldg1/device10311/analogInput/4       None     27123  "
      ]
     },
     "execution_count": 13,
     "metadata": {},
     "output_type": "execute_result"
    }
   ],
   "source": [
    "sensor_metadata = client.get_points_by_ids(points)\n",
    "pd.DataFrame(sensor_metadata).head()"
   ]
  },
  {
   "cell_type": "markdown",
   "id": "e0902bdc-b2f9-4d1f-8474-fb78491c4349",
   "metadata": {
    "papermill": {
     "duration": 0.058691,
     "end_time": "2022-05-13T16:23:08.196101",
     "exception": false,
     "start_time": "2022-05-13T16:23:08.137410",
     "status": "completed"
    },
    "tags": []
   },
   "source": [
    "Let's stop for a moment on the `last_updated` and `first_updated`. Looks weird for a datetime, right? This is because it's in [Unix Time](https://en.wikipedia.org/wiki/Unix_time), formatted as the miliseconds that passed since the Unix Epoch; The Unix epoch is 00:00:00 UTC on 1 January 1970 (an arbitrary date). Fortunately, it's very easy to convert those miliseconds to UTC:"
   ]
  },
  {
   "cell_type": "code",
   "execution_count": 8,
   "id": "d67d59b2-1fa1-40fe-82c8-dd329ab5c544",
   "metadata": {
    "papermill": {
     "duration": 0.0647,
     "end_time": "2022-05-13T16:23:08.440435",
     "exception": false,
     "start_time": "2022-05-13T16:23:08.375735",
     "status": "completed"
    },
    "tags": []
   },
   "outputs": [
    {
     "data": {
      "text/plain": [
       "datetime.datetime(1970, 1, 1, 0, 0, tzinfo=datetime.timezone.utc)"
      ]
     },
     "execution_count": 8,
     "metadata": {},
     "output_type": "execute_result"
    }
   ],
   "source": [
    "from datetime import datetime, timezone, timedelta\n",
    "\n",
    "# The starting point of Unix Time\n",
    "datetime.fromtimestamp(0, timezone.utc)"
   ]
  },
  {
   "cell_type": "markdown",
   "id": "17d2cd97-0b11-4752-b4bf-3b5fd44b4b18",
   "metadata": {
    "papermill": {
     "duration": 0.056072,
     "end_time": "2022-05-13T16:23:08.552424",
     "exception": false,
     "start_time": "2022-05-13T16:23:08.496352",
     "status": "completed"
    },
    "tags": []
   },
   "source": [
    "Let's do it for each value in `last_updated` using panda's [`apply` method](https://pandas.pydata.org/docs/reference/api/pandas.Series.apply.html) (remember that we are converting miliseconds):"
   ]
  },
  {
   "cell_type": "code",
   "execution_count": 18,
   "id": "5ef4e23e-b8d7-47b4-bc55-f010763647bb",
   "metadata": {
    "papermill": {
     "duration": 0.074771,
     "end_time": "2022-05-13T16:23:08.683951",
     "exception": false,
     "start_time": "2022-05-13T16:23:08.609180",
     "status": "completed"
    },
    "tags": []
   },
   "outputs": [],
   "source": [
    "sensor_metadata = pd.DataFrame(sensor_metadata)"
   ]
  },
  {
   "cell_type": "markdown",
   "id": "1767ca78-2b80-4c5b-954d-4f09becd79d1",
   "metadata": {
    "papermill": {
     "duration": 0.056225,
     "end_time": "2022-05-13T16:23:08.796418",
     "exception": false,
     "start_time": "2022-05-13T16:23:08.740193",
     "status": "completed"
    },
    "tags": []
   },
   "source": [
    "Let's inspect the datetime period we are working with; we have to convert the `first_updated` and `last_updated` from unix timestamp to a datetime, like we just did, to find the limits."
   ]
  },
  {
   "cell_type": "code",
   "execution_count": 19,
   "id": "7ec683a0-7320-4ded-8b72-4b89e86e8c9f",
   "metadata": {
    "papermill": {
     "duration": 0.070373,
     "end_time": "2022-05-13T16:23:08.926854",
     "exception": false,
     "start_time": "2022-05-13T16:23:08.856481",
     "status": "completed"
    },
    "tags": []
   },
   "outputs": [
    {
     "data": {
      "text/plain": [
       "Timestamp('2021-07-21 20:04:07.444000+0000', tz='UTC')"
      ]
     },
     "execution_count": 19,
     "metadata": {},
     "output_type": "execute_result"
    }
   ],
   "source": [
    "sensor_metadata.first_updated.apply(lambda x: datetime.fromtimestamp(x/1000, timezone.utc)).min()"
   ]
  },
  {
   "cell_type": "code",
   "execution_count": 20,
   "id": "74498b0f-e8bc-4fbd-bbc2-074023ab089d",
   "metadata": {},
   "outputs": [
    {
     "data": {
      "text/plain": [
       "Timestamp('2022-10-05 23:12:41.215000+0000', tz='UTC')"
      ]
     },
     "execution_count": 20,
     "metadata": {},
     "output_type": "execute_result"
    }
   ],
   "source": [
    "sensor_metadata.last_updated.apply(lambda x: datetime.fromtimestamp(x/1000, timezone.utc)).max()"
   ]
  },
  {
   "cell_type": "markdown",
   "id": "65bc3904-4e6f-4df9-82e8-94857b22bd05",
   "metadata": {
    "papermill": {
     "duration": 0.058607,
     "end_time": "2022-05-13T16:23:09.177921",
     "exception": false,
     "start_time": "2022-05-13T16:23:09.119314",
     "status": "completed"
    },
    "tags": []
   },
   "source": [
    "We have data from between 2021 and 2022, which we will use soon when getting the time-series using Onboard Client's methods for [querying time-series data](https://onboard-data-python-client-api.readthedocs.io/en/latest/Querying%20Building-Specific%20Data.html#querying-time-series-data). Let's import the needed libraries first:"
   ]
  },
  {
   "cell_type": "code",
   "execution_count": 10,
   "id": "1efdf281-2d10-4266-8344-4e681e5d0442",
   "metadata": {
    "papermill": {
     "duration": 0.065439,
     "end_time": "2022-05-13T16:23:09.301266",
     "exception": false,
     "start_time": "2022-05-13T16:23:09.235827",
     "status": "completed"
    },
    "tags": []
   },
   "outputs": [],
   "source": [
    "import pytz\n",
    "from onboard.client.models import TimeseriesQuery, PointData\n",
    "from onboard.client.dataframes import points_df_from_streaming_timeseries"
   ]
  },
  {
   "cell_type": "markdown",
   "id": "bb3fdb2e-53e6-44ac-8537-2c13dfa97e62",
   "metadata": {
    "papermill": {
     "duration": 0.057886,
     "end_time": "2022-05-13T16:23:09.418647",
     "exception": false,
     "start_time": "2022-05-13T16:23:09.360761",
     "status": "completed"
    },
    "tags": []
   },
   "source": [
    "First we have to select our time period in UTC. As we see before, we have 2021-2022 data. Let's select a period of data; we are using the [python library datetime](https://docs.python.org/3/library/datetime.html) to create datetime objects. Remember that all the data from the API is in UTC, you have to localize all your datetimes using [PyTZ](https://pythonhosted.org/pytz/), a library designed for that purpose."
   ]
  },
  {
   "cell_type": "code",
   "execution_count": 11,
   "id": "095ed277-3445-4de9-97fe-d119039cafba",
   "metadata": {
    "papermill": {
     "duration": 0.069683,
     "end_time": "2022-05-13T16:23:09.547854",
     "exception": false,
     "start_time": "2022-05-13T16:23:09.478171",
     "status": "completed"
    },
    "tags": []
   },
   "outputs": [
    {
     "name": "stdout",
     "output_type": "stream",
     "text": [
      "from 2022-10-01 20:31:59.691301+00:00 to 2022-10-31 20:31:59.691301+00:00\n"
     ]
    }
   ],
   "source": [
    "# Select your timezone\n",
    "tz = pytz.timezone('UTC')\n",
    "\n",
    "# to set specific absolute times:\n",
    "# start = datetime(2022,9,15,0,0,0).replace(tzinfo=tz)\n",
    "# end = datetime(2022,10,1,0,0,0).replace(tzinfo=tz)\n",
    "\n",
    "#set relative dates/times\n",
    "end = datetime.now(pytz.utc)\n",
    "start = end - timedelta(days = 30)\n",
    "\n",
    "print(f\"from {start} to {end}\")"
   ]
  },
  {
   "cell_type": "markdown",
   "id": "33300f38-8532-4157-a7e1-4583b55ab4ac",
   "metadata": {
    "papermill": {
     "duration": 0.058114,
     "end_time": "2022-05-13T16:23:09.780376",
     "exception": false,
     "start_time": "2022-05-13T16:23:09.722262",
     "status": "completed"
    },
    "tags": []
   },
   "source": [
    "And let's get the time-series data from the previously selected `points`. Using `TimeseriesQuery` we create the query we want to execute:"
   ]
  },
  {
   "cell_type": "code",
   "execution_count": 23,
   "id": "91960871-6a48-4820-ad9b-79a9411be266",
   "metadata": {
    "papermill": {
     "duration": 0.066404,
     "end_time": "2022-05-13T16:23:09.904974",
     "exception": false,
     "start_time": "2022-05-13T16:23:09.838570",
     "status": "completed"
    },
    "tags": []
   },
   "outputs": [
    {
     "data": {
      "text/plain": [
       "TimeseriesQuery(start=datetime.datetime(2022, 9, 5, 23, 15, 7, 37360, tzinfo=<UTC>), end=datetime.datetime(2022, 10, 5, 23, 15, 7, 37360, tzinfo=<UTC>), selector=None, point_ids=[284803, 286085, 285964, 286353, 284822, 285719, 288153, 289701, 289575, 284841], units={})"
      ]
     },
     "execution_count": 23,
     "metadata": {},
     "output_type": "execute_result"
    }
   ],
   "source": [
    "timeseries_query = TimeseriesQuery(point_ids = points[0:10], start = start, end = end)\n",
    "timeseries_query"
   ]
  },
  {
   "cell_type": "markdown",
   "id": "8fb10fbe-6e4c-4c66-a495-8be69af4c17e",
   "metadata": {
    "papermill": {
     "duration": 0.058751,
     "end_time": "2022-05-13T16:23:10.023480",
     "exception": false,
     "start_time": "2022-05-13T16:23:09.964729",
     "status": "completed"
    },
    "tags": []
   },
   "source": [
    "And now we execute it and transform to dataframe:"
   ]
  },
  {
   "cell_type": "code",
   "execution_count": 24,
   "id": "502e126e-3693-42f7-90bb-f9d162ee2445",
   "metadata": {
    "papermill": {
     "duration": 2.465778,
     "end_time": "2022-05-13T16:23:12.548396",
     "exception": false,
     "start_time": "2022-05-13T16:23:10.082618",
     "status": "completed"
    },
    "tags": []
   },
   "outputs": [],
   "source": [
    "# Exceute query (will return an object)\n",
    "query_results = client.stream_point_timeseries(timeseries_query)\n",
    "\n",
    "# Convert to dataframe\n",
    "sensor_data = points_df_from_streaming_timeseries(query_results)"
   ]
  },
  {
   "cell_type": "code",
   "execution_count": 25,
   "id": "2f2c026d-733f-456a-9738-45c8e092a2c8",
   "metadata": {
    "papermill": {
     "duration": 0.09323,
     "end_time": "2022-05-13T16:23:12.703457",
     "exception": false,
     "start_time": "2022-05-13T16:23:12.610227",
     "status": "completed"
    },
    "tags": []
   },
   "outputs": [
    {
     "data": {
      "text/html": [
       "<div>\n",
       "<style scoped>\n",
       "    .dataframe tbody tr th:only-of-type {\n",
       "        vertical-align: middle;\n",
       "    }\n",
       "\n",
       "    .dataframe tbody tr th {\n",
       "        vertical-align: top;\n",
       "    }\n",
       "\n",
       "    .dataframe thead th {\n",
       "        text-align: right;\n",
       "    }\n",
       "</style>\n",
       "<table border=\"1\" class=\"dataframe\">\n",
       "  <thead>\n",
       "    <tr style=\"text-align: right;\">\n",
       "      <th></th>\n",
       "      <th>timestamp</th>\n",
       "      <th>285719</th>\n",
       "      <th>288153</th>\n",
       "      <th>284803</th>\n",
       "      <th>286085</th>\n",
       "      <th>289575</th>\n",
       "      <th>289701</th>\n",
       "      <th>284841</th>\n",
       "      <th>285964</th>\n",
       "      <th>284822</th>\n",
       "      <th>286353</th>\n",
       "    </tr>\n",
       "  </thead>\n",
       "  <tbody>\n",
       "    <tr>\n",
       "      <th>0</th>\n",
       "      <td>2022-09-05T23:15:08.350000Z</td>\n",
       "      <td>NaN</td>\n",
       "      <td>NaN</td>\n",
       "      <td>NaN</td>\n",
       "      <td>NaN</td>\n",
       "      <td>NaN</td>\n",
       "      <td>77.0</td>\n",
       "      <td>NaN</td>\n",
       "      <td>NaN</td>\n",
       "      <td>NaN</td>\n",
       "      <td>NaN</td>\n",
       "    </tr>\n",
       "    <tr>\n",
       "      <th>1</th>\n",
       "      <td>2022-09-05T23:15:10.307000Z</td>\n",
       "      <td>NaN</td>\n",
       "      <td>NaN</td>\n",
       "      <td>NaN</td>\n",
       "      <td>NaN</td>\n",
       "      <td>77.0</td>\n",
       "      <td>NaN</td>\n",
       "      <td>NaN</td>\n",
       "      <td>NaN</td>\n",
       "      <td>NaN</td>\n",
       "      <td>NaN</td>\n",
       "    </tr>\n",
       "    <tr>\n",
       "      <th>2</th>\n",
       "      <td>2022-09-05T23:15:35.186000Z</td>\n",
       "      <td>75.599998</td>\n",
       "      <td>NaN</td>\n",
       "      <td>NaN</td>\n",
       "      <td>NaN</td>\n",
       "      <td>NaN</td>\n",
       "      <td>NaN</td>\n",
       "      <td>NaN</td>\n",
       "      <td>NaN</td>\n",
       "      <td>NaN</td>\n",
       "      <td>NaN</td>\n",
       "    </tr>\n",
       "    <tr>\n",
       "      <th>3</th>\n",
       "      <td>2022-09-05T23:15:41.962000Z</td>\n",
       "      <td>NaN</td>\n",
       "      <td>NaN</td>\n",
       "      <td>NaN</td>\n",
       "      <td>NaN</td>\n",
       "      <td>NaN</td>\n",
       "      <td>NaN</td>\n",
       "      <td>NaN</td>\n",
       "      <td>74.800003</td>\n",
       "      <td>NaN</td>\n",
       "      <td>NaN</td>\n",
       "    </tr>\n",
       "    <tr>\n",
       "      <th>4</th>\n",
       "      <td>2022-09-05T23:15:42.640000Z</td>\n",
       "      <td>NaN</td>\n",
       "      <td>72.400002</td>\n",
       "      <td>NaN</td>\n",
       "      <td>NaN</td>\n",
       "      <td>NaN</td>\n",
       "      <td>NaN</td>\n",
       "      <td>NaN</td>\n",
       "      <td>NaN</td>\n",
       "      <td>NaN</td>\n",
       "      <td>NaN</td>\n",
       "    </tr>\n",
       "    <tr>\n",
       "      <th>...</th>\n",
       "      <td>...</td>\n",
       "      <td>...</td>\n",
       "      <td>...</td>\n",
       "      <td>...</td>\n",
       "      <td>...</td>\n",
       "      <td>...</td>\n",
       "      <td>...</td>\n",
       "      <td>...</td>\n",
       "      <td>...</td>\n",
       "      <td>...</td>\n",
       "      <td>...</td>\n",
       "    </tr>\n",
       "    <tr>\n",
       "      <th>413529</th>\n",
       "      <td>2022-10-05T23:12:05.351000Z</td>\n",
       "      <td>NaN</td>\n",
       "      <td>NaN</td>\n",
       "      <td>NaN</td>\n",
       "      <td>NaN</td>\n",
       "      <td>NaN</td>\n",
       "      <td>NaN</td>\n",
       "      <td>70.0</td>\n",
       "      <td>NaN</td>\n",
       "      <td>NaN</td>\n",
       "      <td>NaN</td>\n",
       "    </tr>\n",
       "    <tr>\n",
       "      <th>413530</th>\n",
       "      <td>2022-10-05T23:12:08.740000Z</td>\n",
       "      <td>73.900002</td>\n",
       "      <td>NaN</td>\n",
       "      <td>NaN</td>\n",
       "      <td>NaN</td>\n",
       "      <td>NaN</td>\n",
       "      <td>NaN</td>\n",
       "      <td>NaN</td>\n",
       "      <td>NaN</td>\n",
       "      <td>NaN</td>\n",
       "      <td>NaN</td>\n",
       "    </tr>\n",
       "    <tr>\n",
       "      <th>413531</th>\n",
       "      <td>2022-10-05T23:12:17.636000Z</td>\n",
       "      <td>NaN</td>\n",
       "      <td>73.300003</td>\n",
       "      <td>NaN</td>\n",
       "      <td>NaN</td>\n",
       "      <td>NaN</td>\n",
       "      <td>NaN</td>\n",
       "      <td>NaN</td>\n",
       "      <td>NaN</td>\n",
       "      <td>NaN</td>\n",
       "      <td>NaN</td>\n",
       "    </tr>\n",
       "    <tr>\n",
       "      <th>413532</th>\n",
       "      <td>2022-10-05T23:12:20.653000Z</td>\n",
       "      <td>NaN</td>\n",
       "      <td>NaN</td>\n",
       "      <td>70.0</td>\n",
       "      <td>NaN</td>\n",
       "      <td>NaN</td>\n",
       "      <td>NaN</td>\n",
       "      <td>NaN</td>\n",
       "      <td>NaN</td>\n",
       "      <td>NaN</td>\n",
       "      <td>NaN</td>\n",
       "    </tr>\n",
       "    <tr>\n",
       "      <th>413533</th>\n",
       "      <td>2022-10-05T23:12:35.013000Z</td>\n",
       "      <td>NaN</td>\n",
       "      <td>NaN</td>\n",
       "      <td>NaN</td>\n",
       "      <td>NaN</td>\n",
       "      <td>NaN</td>\n",
       "      <td>NaN</td>\n",
       "      <td>NaN</td>\n",
       "      <td>NaN</td>\n",
       "      <td>70.0</td>\n",
       "      <td>NaN</td>\n",
       "    </tr>\n",
       "  </tbody>\n",
       "</table>\n",
       "<p>413534 rows × 11 columns</p>\n",
       "</div>"
      ],
      "text/plain": [
       "                          timestamp     285719     288153  284803  286085  \\\n",
       "0       2022-09-05T23:15:08.350000Z        NaN        NaN     NaN     NaN   \n",
       "1       2022-09-05T23:15:10.307000Z        NaN        NaN     NaN     NaN   \n",
       "2       2022-09-05T23:15:35.186000Z  75.599998        NaN     NaN     NaN   \n",
       "3       2022-09-05T23:15:41.962000Z        NaN        NaN     NaN     NaN   \n",
       "4       2022-09-05T23:15:42.640000Z        NaN  72.400002     NaN     NaN   \n",
       "...                             ...        ...        ...     ...     ...   \n",
       "413529  2022-10-05T23:12:05.351000Z        NaN        NaN     NaN     NaN   \n",
       "413530  2022-10-05T23:12:08.740000Z  73.900002        NaN     NaN     NaN   \n",
       "413531  2022-10-05T23:12:17.636000Z        NaN  73.300003     NaN     NaN   \n",
       "413532  2022-10-05T23:12:20.653000Z        NaN        NaN    70.0     NaN   \n",
       "413533  2022-10-05T23:12:35.013000Z        NaN        NaN     NaN     NaN   \n",
       "\n",
       "        289575  289701  284841     285964  284822  286353  \n",
       "0          NaN    77.0     NaN        NaN     NaN     NaN  \n",
       "1         77.0     NaN     NaN        NaN     NaN     NaN  \n",
       "2          NaN     NaN     NaN        NaN     NaN     NaN  \n",
       "3          NaN     NaN     NaN  74.800003     NaN     NaN  \n",
       "4          NaN     NaN     NaN        NaN     NaN     NaN  \n",
       "...        ...     ...     ...        ...     ...     ...  \n",
       "413529     NaN     NaN    70.0        NaN     NaN     NaN  \n",
       "413530     NaN     NaN     NaN        NaN     NaN     NaN  \n",
       "413531     NaN     NaN     NaN        NaN     NaN     NaN  \n",
       "413532     NaN     NaN     NaN        NaN     NaN     NaN  \n",
       "413533     NaN     NaN     NaN        NaN    70.0     NaN  \n",
       "\n",
       "[413534 rows x 11 columns]"
      ]
     },
     "execution_count": 25,
     "metadata": {},
     "output_type": "execute_result"
    }
   ],
   "source": [
    "sensor_data"
   ]
  },
  {
   "cell_type": "markdown",
   "id": "337b22a4-16ff-4906-a3e9-bfd2ce463542",
   "metadata": {
    "papermill": {
     "duration": 0.061277,
     "end_time": "2022-05-13T16:23:12.825000",
     "exception": false,
     "start_time": "2022-05-13T16:23:12.763723",
     "status": "completed"
    },
    "tags": []
   },
   "source": [
    "And we have the time-series for our selected points. You can export it as csv:"
   ]
  },
  {
   "cell_type": "code",
   "execution_count": null,
   "id": "c83d4623-8498-4828-9919-f24784e588a9",
   "metadata": {
    "papermill": {
     "duration": 0.070378,
     "end_time": "2022-05-13T16:23:12.959692",
     "exception": false,
     "start_time": "2022-05-13T16:23:12.889314",
     "status": "completed"
    },
    "tags": []
   },
   "outputs": [],
   "source": [
    "sensor_data.to_csv(\"sensor_data.csv\", index=False)"
   ]
  },
  {
   "cell_type": "markdown",
   "id": "2f2c81ff-89b7-44f0-95ff-9ccd82ec30c5",
   "metadata": {
    "papermill": {
     "duration": 0.059754,
     "end_time": "2022-05-13T16:23:13.080472",
     "exception": false,
     "start_time": "2022-05-13T16:23:13.020718",
     "status": "completed"
    },
    "tags": []
   },
   "source": [
    "Finally, let's visualize our sensors data! (we will get a bit deeper on this subject in following notebooks)"
   ]
  },
  {
   "cell_type": "code",
   "execution_count": 105,
   "id": "a0a73c2f-21c4-4093-bd0d-50f089458da0",
   "metadata": {
    "papermill": {
     "duration": 1.046497,
     "end_time": "2022-05-13T16:23:14.186063",
     "exception": false,
     "start_time": "2022-05-13T16:23:13.139566",
     "status": "completed"
    },
    "tags": []
   },
   "outputs": [],
   "source": [
    "import matplotlib.pyplot as plt\n",
    "import seaborn as sns\n",
    "\n",
    "# This is for the visual stype, I like \"ggplot\"\n",
    "plt.style.use('ggplot')\n",
    "\n",
    "# This for the figure size\n",
    "plt.rcParams[\"figure.figsize\"] = (20,9)"
   ]
  },
  {
   "cell_type": "code",
   "execution_count": null,
   "id": "8813f02f-f090-4d7f-927a-c433cb687a52",
   "metadata": {
    "papermill": {
     "duration": 2.661511,
     "end_time": "2022-05-13T16:23:16.907501",
     "exception": false,
     "start_time": "2022-05-13T16:23:14.245990",
     "status": "completed"
    },
    "tags": []
   },
   "outputs": [],
   "source": [
    "sns.lineplot(data=sensor_data, x = \"timestamp\")"
   ]
  },
  {
   "cell_type": "code",
   "execution_count": null,
   "id": "9df6470a-69cc-47c8-ac57-4a7b862461ca",
   "metadata": {},
   "outputs": [],
   "source": [
    "timeseries_query"
   ]
  }
 ],
 "metadata": {
  "kernelspec": {
   "display_name": "Python 3 (ipykernel)",
   "language": "python",
   "name": "python3"
  },
  "language_info": {
   "codemirror_mode": {
    "name": "ipython",
    "version": 3
   },
   "file_extension": ".py",
   "mimetype": "text/x-python",
   "name": "python",
   "nbconvert_exporter": "python",
   "pygments_lexer": "ipython3",
   "version": "3.9.7"
  }
 },
 "nbformat": 4,
 "nbformat_minor": 5
}
